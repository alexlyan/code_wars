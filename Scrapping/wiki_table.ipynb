{
 "cells": [
  {
   "cell_type": "code",
   "execution_count": 240,
   "metadata": {},
   "outputs": [],
   "source": [
    "# importing libraries\n",
    "\n",
    "import pandas as pd\n",
    "from bs4 import BeautifulSoup\n",
    "from urllib.request import Request, urlopen"
   ]
  },
  {
   "cell_type": "code",
   "execution_count": 241,
   "metadata": {},
   "outputs": [],
   "source": [
    "url = Request('https://en.wikipedia.org/wiki/List_of_U.S._states_and_territories_by_GDP')\n",
    "soup = urlopen(url).read()\n",
    "parse = BeautifulSoup(soup)"
   ]
  },
  {
   "cell_type": "code",
   "execution_count": 242,
   "metadata": {},
   "outputs": [],
   "source": [
    "# creating DataFrame\n",
    "df = pd.DataFrame(columns=['Rank', 'State', '2019', '%', 'GDP per Capita', 'Region'])"
   ]
  },
  {
   "cell_type": "code",
   "execution_count": 404,
   "metadata": {},
   "outputs": [],
   "source": [
    "import re\n",
    "def number(number):\n",
    "    return re.sub('[^\\w\\s.]', '', number)"
   ]
  },
  {
   "cell_type": "markdown",
   "metadata": {},
   "source": [
    "### Parsing Headers"
   ]
  },
  {
   "cell_type": "code",
   "execution_count": 399,
   "metadata": {},
   "outputs": [],
   "source": [
    "# parse.find_all('div', attrs={'div':'wikitable sortable jquery-tablesorter'})\n",
    "\n",
    "tables = parse.find_all('table', attrs={'class':'wikitable sortable'})"
   ]
  },
  {
   "cell_type": "code",
   "execution_count": 413,
   "metadata": {},
   "outputs": [],
   "source": [
    "ranks = []\n",
    "countries = []\n",
    "Q3 = []\n",
    "perc = []\n",
    "gdp = []\n",
    "region = []\n",
    "\n",
    "for table in tables:\n",
    "    rows = table.find_all('tr')\n",
    "    \n",
    "    for row in rows:\n",
    "        cells = row.find_all('td')\n",
    "        \n",
    "        if len(cells) > 1:\n",
    "                    rank = cells[0]\n",
    "                    ranks.append(rank.text)\n",
    "\n",
    "                    states = cells[1]\n",
    "                    countries.append(states.text.strip())\n",
    "                    \n",
    "                    q = cells[2]\n",
    "                    Q3.append(number(q.text.strip()))\n",
    "                    \n",
    "                    per = cells[3]\n",
    "                    perc.append(per.text.strip())\n",
    "                    \n",
    "                    gdp_1 = cells[4]\n",
    "                    gdp.append(number(gdp_1.text.strip()))\n",
    "                    \n",
    "                    reg_1 = cells[5]\n",
    "                    region.append(reg_1.text.strip())"
   ]
  },
  {
   "cell_type": "code",
   "execution_count": null,
   "metadata": {},
   "outputs": [],
   "source": [
    "# ranks\n",
    "# countries\n",
    "# Q3\n",
    "# perc\n",
    "# gdp\n",
    "# region"
   ]
  },
  {
   "cell_type": "code",
   "execution_count": 420,
   "metadata": {},
   "outputs": [],
   "source": [
    "# how to add data into DataFrame\n",
    "df = pd.DataFrame({'Rank':ranks, 'State':countries, '2019':Q3, '%':perc, 'GDP per Capita':gdp, 'Region':region})\n"
   ]
  },
  {
   "cell_type": "code",
   "execution_count": 426,
   "metadata": {},
   "outputs": [],
   "source": [
    "df.drop('Rank', axis=1, inplace=True)"
   ]
  },
  {
   "cell_type": "code",
   "execution_count": 428,
   "metadata": {},
   "outputs": [
    {
     "name": "stdout",
     "output_type": "stream",
     "text": [
      "<class 'pandas.core.frame.DataFrame'>\n",
      "RangeIndex: 57 entries, 0 to 56\n",
      "Data columns (total 5 columns):\n",
      "State             57 non-null object\n",
      "2019              57 non-null object\n",
      "%                 57 non-null object\n",
      "GDP per Capita    57 non-null object\n",
      "Region            57 non-null object\n",
      "dtypes: object(5)\n",
      "memory usage: 2.4+ KB\n"
     ]
    }
   ],
   "source": []
  },
  {
   "cell_type": "code",
   "execution_count": null,
   "metadata": {},
   "outputs": [],
   "source": []
  }
 ],
 "metadata": {
  "kernelspec": {
   "display_name": "Python 3.8.0 64-bit",
   "language": "python",
   "name": "python38064bita3e2b9284fe241009277b40c2dcf841c"
  },
  "language_info": {
   "codemirror_mode": {
    "name": "ipython",
    "version": 3
   },
   "file_extension": ".py",
   "mimetype": "text/x-python",
   "name": "python",
   "nbconvert_exporter": "python",
   "pygments_lexer": "ipython3",
   "version": "3.8.0"
  },
  "toc-autonumbering": false
 },
 "nbformat": 4,
 "nbformat_minor": 4
}
