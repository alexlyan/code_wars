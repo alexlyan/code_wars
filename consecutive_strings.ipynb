{
 "cells": [
  {
   "cell_type": "code",
   "execution_count": 39,
   "metadata": {},
   "outputs": [],
   "source": [
    "def longest_consec(strarr, k):\n",
    "        # your code\n",
    "    if k <= 0 or len(strarr) <= k:\n",
    "        return ''\n",
    "    else:\n",
    "        # Step 1. Remove duplicates\n",
    "        lst_2 = []\n",
    "        [lst_2.append(x) for x in strarr if x not in lst_2]\n",
    "\n",
    "        # Step 2. Find by index\n",
    "        # for index cons+1\n",
    "        consecutive_list = []\n",
    "        for word in lst_2:\n",
    "            consecutive_list.append(sum(len(word) for word in lst_2[lst_2.index(word):lst_2.index(word)+k]))\n",
    "        #     consecutive_list = sum[len(x) for x in lst_2[lst_2.index(word):lst_2.index(word)+cons]]\n",
    "        # Step 3. Fetch final index\n",
    "        final_index = consecutive_list.index(max(consecutive_list))\n",
    "        # Step 4. Return concatenated string\n",
    "        return ''.join(lst_2[final_index:final_index+k])"
   ]
  },
  {
   "cell_type": "code",
   "execution_count": 41,
   "metadata": {},
   "outputs": [
    {
     "data": {
      "text/plain": [
       "''"
      ]
     },
     "execution_count": 41,
     "metadata": {},
     "output_type": "execute_result"
    }
   ],
   "source": [
    "longest_consec([\"zone\", \"abigail\", \"theta\", \"form\", \"libe\", \"zas\"], -2)"
   ]
  },
  {
   "cell_type": "code",
   "execution_count": null,
   "metadata": {},
   "outputs": [],
   "source": [
    "def longest_consec(s, k):\n",
    "    return max([\"\".join(s[i:i+k]) for i in range(len(s)-k+1)], key=len) if s and 0 < k <= len(s) else \"\""
   ]
  }
 ],
 "metadata": {
  "kernelspec": {
   "display_name": "Python 3.8.0 64-bit",
   "language": "python",
   "name": "python38064bita3e2b9284fe241009277b40c2dcf841c"
  },
  "language_info": {
   "codemirror_mode": {
    "name": "ipython",
    "version": 3
   },
   "file_extension": ".py",
   "mimetype": "text/x-python",
   "name": "python",
   "nbconvert_exporter": "python",
   "pygments_lexer": "ipython3",
   "version": "3.8.0"
  }
 },
 "nbformat": 4,
 "nbformat_minor": 4
}
