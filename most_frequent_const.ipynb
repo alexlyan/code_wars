{
 "cells": [
  {
   "cell_type": "code",
   "execution_count": 191,
   "metadata": {},
   "outputs": [],
   "source": [
    "def longest_repetition(chars):\n",
    "    if not chars:\n",
    "        return ('', 0)\n",
    "    else:\n",
    "        count = 1\n",
    "        # main list of elements\n",
    "        keys = []\n",
    "        for i in range(1,len(chars)):\n",
    "            if chars[i-1]==chars[i]:\n",
    "                count += 1\n",
    "            else:\n",
    "                keys.append((chars[i-1], count))\n",
    "                count = 1\n",
    "        keys.append((chars[i-1], count))\n",
    "\n",
    "        return max([(c[0], c[1]) for c in keys], default=('', 0), key=lambda x: x[1]) "
   ]
  },
  {
   "cell_type": "code",
   "execution_count": 192,
   "metadata": {},
   "outputs": [
    {
     "data": {
      "text/plain": [
       "('a', 3)"
      ]
     },
     "execution_count": 192,
     "metadata": {},
     "output_type": "execute_result"
    }
   ],
   "source": [
    "longest_repetition('aaabb')"
   ]
  },
  {
   "cell_type": "code",
   "execution_count": null,
   "metadata": {},
   "outputs": [],
   "source": []
  }
 ],
 "metadata": {
  "kernelspec": {
   "display_name": "Python 3.8.0 64-bit",
   "language": "python",
   "name": "python38064bita3e2b9284fe241009277b40c2dcf841c"
  },
  "language_info": {
   "codemirror_mode": {
    "name": "ipython",
    "version": 3
   },
   "file_extension": ".py",
   "mimetype": "text/x-python",
   "name": "python",
   "nbconvert_exporter": "python",
   "pygments_lexer": "ipython3",
   "version": "3.8.0"
  }
 },
 "nbformat": 4,
 "nbformat_minor": 4
}
