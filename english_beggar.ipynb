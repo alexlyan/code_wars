{
 "cells": [
  {
   "cell_type": "code",
   "execution_count": 66,
   "metadata": {},
   "outputs": [],
   "source": [
    "import numpy as np\n",
    "from math import ceil\n",
    "\n",
    "def beggars(values, n):\n",
    "#     if n is empty, return []\n",
    "    if not n:\n",
    "        return []\n",
    "    # creating matrix\n",
    "    \n",
    "    rows = ceil(len(values)/n)\n",
    "    cols = n\n",
    "    # append 0 to list for valid reshape \n",
    "    while len(values) < rows*cols:\n",
    "        values.append(0)\n",
    "\n",
    "    nums = np.array(values).reshape(rows, n)\n",
    "    matrix = nums.shape\n",
    "\n",
    "    sums = {}\n",
    "\n",
    "    for col in range(1, matrix[1]+1):\n",
    "        sums[col] = 0\n",
    "    for row in range(0, matrix[0]):\n",
    "        for col in range(1, matrix[1]+1):\n",
    "            sums[col] += nums[row][col-1]\n",
    "    return list(sums.values())\n"
   ]
  },
  {
   "cell_type": "code",
   "execution_count": 71,
   "metadata": {},
   "outputs": [
    {
     "data": {
      "text/plain": [
       "[1, 2, 3, 4, 5, 0]"
      ]
     },
     "execution_count": 71,
     "metadata": {},
     "output_type": "execute_result"
    }
   ],
   "source": [
    "beggars([1,2,3,4,5], 6)"
   ]
  },
  {
   "cell_type": "code",
   "execution_count": null,
   "metadata": {},
   "outputs": [],
   "source": [
    "def beggars(values, n):\n",
    "    return [sum(values[i::n]) for i in range(n)]"
   ]
  },
  {
   "cell_type": "code",
   "execution_count": null,
   "metadata": {},
   "outputs": [],
   "source": [
    "[1,2,3,4,5][::]"
   ]
  }
 ],
 "metadata": {
  "kernelspec": {
   "display_name": "Python 3.8.0 64-bit",
   "language": "python",
   "name": "python38064bita3e2b9284fe241009277b40c2dcf841c"
  },
  "language_info": {
   "codemirror_mode": {
    "name": "ipython",
    "version": 3
   },
   "file_extension": ".py",
   "mimetype": "text/x-python",
   "name": "python",
   "nbconvert_exporter": "python",
   "pygments_lexer": "ipython3",
   "version": "3.8.0"
  }
 },
 "nbformat": 4,
 "nbformat_minor": 4
}
