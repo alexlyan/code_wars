{
 "cells": [
  {
   "cell_type": "code",
   "execution_count": 6,
   "metadata": {},
   "outputs": [],
   "source": []
  },
  {
   "cell_type": "code",
   "execution_count": 1,
   "metadata": {},
   "outputs": [],
   "source": [
    "string = \"24-79(72); 16-101(53); 86(58)-27; 31-90(74); 0-115(115); 67-40; 61-21; 81(55)-23; 51-14; 124(56,68)-4; 67-12; 108(85)-15; 1-117(117); 1-92(92); 130(112)-0; 1-106(53); 59-39\""
   ]
  },
  {
   "cell_type": "code",
   "execution_count": 25,
   "metadata": {},
   "outputs": [],
   "source": [
    "def frame(score):\n",
    "    import re\n",
    "    \n",
    "    player_1 = []\n",
    "    player_2 = []\n",
    "    pattern = re.compile(r'(\\w+)\\(')\n",
    "\n",
    "    # spliting games\n",
    "    for game in string.split('; '):\n",
    "        # spliting game into players points\n",
    "        game_1, game_2 = game.split('-')\n",
    "        # Regex points\n",
    "        point_game_1 = int(re.findall(pattern, game_1)[0]) if re.findall(pattern, game_1) else int(game_1)\n",
    "        point_game_2 = int(re.findall(pattern, game_2)[0]) if re.findall(pattern, game_2) else int(game_2)\n",
    "        # Append point to winner\n",
    "        player_1.append(1) if point_game_1 > point_game_2 else player_2.append(1)\n",
    "\n",
    "    return [sum(player_1), sum(player_2)]\n",
    "        \n",
    "    "
   ]
  },
  {
   "cell_type": "code",
   "execution_count": 5,
   "metadata": {},
   "outputs": [],
   "source": [
    "first = string.split('; ')[0]"
   ]
  },
  {
   "cell_type": "code",
   "execution_count": 11,
   "metadata": {},
   "outputs": [],
   "source": [
    "second = string.split('; ')[1]"
   ]
  },
  {
   "cell_type": "code",
   "execution_count": 15,
   "metadata": {},
   "outputs": [
    {
     "data": {
      "text/plain": [
       "['101']"
      ]
     },
     "execution_count": 15,
     "metadata": {},
     "output_type": "execute_result"
    }
   ],
   "source": [
    "re.findall(r'(\\w+)\\(', second)"
   ]
  },
  {
   "cell_type": "code",
   "execution_count": 16,
   "metadata": {},
   "outputs": [
    {
     "data": {
      "text/plain": [
       "['24', '79(72)']"
      ]
     },
     "execution_count": 16,
     "metadata": {},
     "output_type": "execute_result"
    }
   ],
   "source": [
    "first.split('-')"
   ]
  },
  {
   "cell_type": "code",
   "execution_count": 26,
   "metadata": {},
   "outputs": [],
   "source": [
    "import re\n",
    "\n",
    "def frame(score):\n",
    "    frames = [0, 0]\n",
    "    for s1,_,s2 in re.findall(r'(\\d+)(\\([\\d,]+\\))?-(\\d+)', score):\n",
    "        print(s1)\n",
    "        frames[ int(s1) < int(s2) ] += 1\n",
    "    return frames"
   ]
  },
  {
   "cell_type": "code",
   "execution_count": 28,
   "metadata": {},
   "outputs": [
    {
     "data": {
      "text/plain": [
       "[('24', '', '79'),\n",
       " ('16', '', '101'),\n",
       " ('86', '(58)', '27'),\n",
       " ('31', '', '90'),\n",
       " ('0', '', '115'),\n",
       " ('67', '', '40'),\n",
       " ('61', '', '21'),\n",
       " ('81', '(55)', '23'),\n",
       " ('51', '', '14'),\n",
       " ('124', '(56,68)', '4'),\n",
       " ('67', '', '12'),\n",
       " ('108', '(85)', '15'),\n",
       " ('1', '', '117'),\n",
       " ('1', '', '92'),\n",
       " ('130', '(112)', '0'),\n",
       " ('1', '', '106'),\n",
       " ('59', '', '39')]"
      ]
     },
     "execution_count": 28,
     "metadata": {},
     "output_type": "execute_result"
    }
   ],
   "source": [
    "re.findall(r'(\\d+)(\\([\\d,]+\\))?-(\\d+)', string)"
   ]
  },
  {
   "cell_type": "code",
   "execution_count": null,
   "metadata": {},
   "outputs": [],
   "source": []
  }
 ],
 "metadata": {
  "kernelspec": {
   "display_name": "Python 3.8.0 64-bit",
   "language": "python",
   "name": "python38064bita3e2b9284fe241009277b40c2dcf841c"
  },
  "language_info": {
   "codemirror_mode": {
    "name": "ipython",
    "version": 3
   },
   "file_extension": ".py",
   "mimetype": "text/x-python",
   "name": "python",
   "nbconvert_exporter": "python",
   "pygments_lexer": "ipython3",
   "version": "3.8.0"
  }
 },
 "nbformat": 4,
 "nbformat_minor": 4
}
