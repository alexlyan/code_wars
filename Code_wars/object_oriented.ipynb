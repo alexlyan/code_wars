{
 "cells": [
  {
   "cell_type": "code",
   "execution_count": null,
   "metadata": {},
   "outputs": [],
   "source": [
    "# return boolen in case string is uppercase or not\n",
    "class uppercase:\n",
    "    def is_uppercase(string):\n",
    "        return string.isupper()"
   ]
  },
  {
   "cell_type": "code",
   "execution_count": null,
   "metadata": {},
   "outputs": [],
   "source": [
    "d = uppercase"
   ]
  },
  {
   "cell_type": "code",
   "execution_count": null,
   "metadata": {},
   "outputs": [],
   "source": [
    "d.is_uppercase('DFadf')"
   ]
  },
  {
   "cell_type": "code",
   "execution_count": null,
   "metadata": {},
   "outputs": [],
   "source": [
    "# return class instance\n",
    "class Ball(object):\n",
    "      def __init__(self, type = \"regular\"):\n",
    "            self.ball_type = type"
   ]
  },
  {
   "cell_type": "code",
   "execution_count": null,
   "metadata": {},
   "outputs": [],
   "source": [
    "ball2 = Ball()"
   ]
  },
  {
   "cell_type": "code",
   "execution_count": null,
   "metadata": {},
   "outputs": [],
   "source": [
    "ball2.type_ball"
   ]
  },
  {
   "cell_type": "code",
   "execution_count": null,
   "metadata": {},
   "outputs": [],
   "source": [
    "class Fighter(object):\n",
    "    def __init__(self, name, health, damage_per_attack):\n",
    "        self.name = name\n",
    "        self.health = health\n",
    "        self.damage_per_attack = damage_per_attack\n",
    "\n",
    "    def __str__(self): return \"Fighter({}, {}, {})\".format(self.name, self.health, self.damage_per_attack)\n",
    "    __repr__=__str__\n",
    "    \n",
    "def declare_winner(Fighter1, Fighter2, first_attacker):\n",
    "    if Fighter1.name == first_attacker:\n",
    "        while Fighter1.health >= 0 and Fighter2.health >= 0:\n",
    "            \n",
    "            Fighter2.health -= Fighter1.damage_per_attack\n",
    "            if Fighter2.health <= 0:\n",
    "                break\n",
    "            Fighter1.health -= Fighter2.damage_per_attack\n",
    "            if Fighter1.health <= 0:\n",
    "                break\n",
    "            \n",
    "\n",
    "        if Fighter1.health > Fighter2.health:\n",
    "            return Fighter1.name\n",
    "        else:\n",
    "            return Fighter2.name\n",
    "        \n",
    "    else:\n",
    "        while Fighter1.health >= 0 and Fighter2.health >= 0:\n",
    "            \n",
    "            Fighter1.health -= Fighter2.damage_per_attack\n",
    "            if Fighter1.health <= 0:\n",
    "                break\n",
    "            Fighter2.health -= Fighter1.damage_per_attack\n",
    "            if Fighter2.health <= 0:\n",
    "                break\n",
    "            \n",
    "        if Fighter1.health > Fighter2.health:\n",
    "            return Fighter1.name\n",
    "        else:\n",
    "            return Fighter2.name"
   ]
  },
  {
   "cell_type": "code",
   "execution_count": null,
   "metadata": {},
   "outputs": [],
   "source": [
    "declare_winner(Fighter(\"Lew\", 10, 2),Fighter(\"Harry\", 5, 4), 'Lew')\n"
   ]
  },
  {
   "cell_type": "code",
   "execution_count": null,
   "metadata": {},
   "outputs": [],
   "source": [
    "def number(lines):\n",
    "    return [(f'{n+1}: {x}') for n, x in enumerate(lines)]"
   ]
  },
  {
   "cell_type": "code",
   "execution_count": 3,
   "metadata": {},
   "outputs": [],
   "source": [
    "class number_list:\n",
    "    def number(lines):\n",
    "        return [(f'{n+1}: {x}') for n, x in enumerate(lines)]"
   ]
  }
 ],
 "metadata": {
  "kernelspec": {
   "display_name": "Python 3.8.0 64-bit",
   "language": "python",
   "name": "python38064bita3e2b9284fe241009277b40c2dcf841c"
  },
  "language_info": {
   "codemirror_mode": {
    "name": "ipython",
    "version": 3
   },
   "file_extension": ".py",
   "mimetype": "text/x-python",
   "name": "python",
   "nbconvert_exporter": "python",
   "pygments_lexer": "ipython3",
   "version": "3.8.0"
  }
 },
 "nbformat": 4,
 "nbformat_minor": 4
}
