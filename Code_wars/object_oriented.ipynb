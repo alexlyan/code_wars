{
 "cells": [
  {
   "cell_type": "code",
   "execution_count": null,
   "metadata": {},
   "outputs": [],
   "source": [
    "# return boolen in case string is uppercase or not\n",
    "class uppercase:\n",
    "    def is_uppercase(string):\n",
    "        return string.isupper()"
   ]
  },
  {
   "cell_type": "code",
   "execution_count": null,
   "metadata": {},
   "outputs": [],
   "source": [
    "d = uppercase"
   ]
  },
  {
   "cell_type": "code",
   "execution_count": null,
   "metadata": {},
   "outputs": [],
   "source": [
    "d.is_uppercase('DFadf')"
   ]
  },
  {
   "cell_type": "code",
   "execution_count": null,
   "metadata": {},
   "outputs": [],
   "source": [
    "# return class instance\n",
    "class Ball(object):\n",
    "      def __init__(self, type = \"regular\"):\n",
    "            self.ball_type = type"
   ]
  },
  {
   "cell_type": "code",
   "execution_count": null,
   "metadata": {},
   "outputs": [],
   "source": [
    "ball2 = Ball()"
   ]
  },
  {
   "cell_type": "code",
   "execution_count": null,
   "metadata": {},
   "outputs": [],
   "source": [
    "ball2.type_ball"
   ]
  },
  {
   "cell_type": "markdown",
   "metadata": {},
   "source": [
    "#### Declare problem"
   ]
  },
  {
   "cell_type": "code",
   "execution_count": null,
   "metadata": {},
   "outputs": [],
   "source": [
    "class Fighter(object):\n",
    "    def __init__(self, name, health, damage_per_attack):\n",
    "        self.name = name\n",
    "        self.health = health\n",
    "        self.damage_per_attack = damage_per_attack\n",
    "\n",
    "    def __str__(self): return \"Fighter({}, {}, {})\".format(self.name, self.health, self.damage_per_attack)\n",
    "    __repr__=__str__\n",
    "    \n",
    "def declare_winner(Fighter1, Fighter2, first_attacker):\n",
    "    if Fighter1.name == first_attacker:\n",
    "        while Fighter1.health >= 0 and Fighter2.health >= 0:\n",
    "            \n",
    "            Fighter2.health -= Fighter1.damage_per_attack\n",
    "            if Fighter2.health <= 0:\n",
    "                break\n",
    "            Fighter1.health -= Fighter2.damage_per_attack\n",
    "            if Fighter1.health <= 0:\n",
    "                break\n",
    "            \n",
    "\n",
    "        if Fighter1.health > Fighter2.health:\n",
    "            return Fighter1.name\n",
    "        else:\n",
    "            return Fighter2.name\n",
    "        \n",
    "    else:\n",
    "        while Fighter1.health >= 0 and Fighter2.health >= 0:\n",
    "            \n",
    "            Fighter1.health -= Fighter2.damage_per_attack\n",
    "            if Fighter1.health <= 0:\n",
    "                break\n",
    "            Fighter2.health -= Fighter1.damage_per_attack\n",
    "            if Fighter2.health <= 0:\n",
    "                break\n",
    "            \n",
    "        if Fighter1.health > Fighter2.health:\n",
    "            return Fighter1.name\n",
    "        else:\n",
    "            return Fighter2.name"
   ]
  },
  {
   "cell_type": "code",
   "execution_count": null,
   "metadata": {},
   "outputs": [],
   "source": [
    "declare_winner(Fighter(\"Lew\", 10, 2),Fighter(\"Harry\", 5, 4), 'Lew')\n"
   ]
  },
  {
   "cell_type": "code",
   "execution_count": null,
   "metadata": {},
   "outputs": [],
   "source": [
    "def number(lines):\n",
    "    return [(f'{n+1}: {x}') for n, x in enumerate(lines)]"
   ]
  },
  {
   "cell_type": "code",
   "execution_count": 3,
   "metadata": {},
   "outputs": [],
   "source": [
    "class number_list:\n",
    "    def number(lines):\n",
    "        return [(f'{n+1}: {x}') for n, x in enumerate(lines)]"
   ]
  },
  {
   "cell_type": "markdown",
   "metadata": {},
   "source": [
    "#### Block problem"
   ]
  },
  {
   "cell_type": "code",
   "execution_count": 40,
   "metadata": {},
   "outputs": [],
   "source": [
    "class Block:\n",
    "    \"\"\"Calculating volume and total surface of block figure\"\"\"\n",
    "    def __init__(self, lst):\n",
    "        self.width, self.length, self.height = lst\n",
    "    def get_width(self):\n",
    "        return self.width\n",
    "    def get_length(self):\n",
    "        return self.length\n",
    "\n",
    "    def get_height(self):\n",
    "        return self.height\n",
    "    def get_volume(self):\n",
    "        return self.width*self.length*self.height\n",
    "    def get_surface_area(self):\n",
    "        return 2*(self.width*self.length)+2*(self.width*self.height)+2*(self.heigth*self.length)"
   ]
  },
  {
   "cell_type": "code",
   "execution_count": 38,
   "metadata": {},
   "outputs": [],
   "source": [
    "x = Block([2, 2, 2])"
   ]
  },
  {
   "cell_type": "code",
   "execution_count": 39,
   "metadata": {},
   "outputs": [
    {
     "data": {
      "text/plain": [
       "8"
      ]
     },
     "execution_count": 39,
     "metadata": {},
     "output_type": "execute_result"
    }
   ],
   "source": [
    "x.get_volume()"
   ]
  },
  {
   "cell_type": "markdown",
   "metadata": {},
   "source": [
    "### Html Generator"
   ]
  },
  {
   "cell_type": "code",
   "execution_count": 77,
   "metadata": {},
   "outputs": [],
   "source": [
    "class HTMLGen:\n",
    "    def p(self, string):\n",
    "        return str(f'<p>{string}<p>')\n",
    "    def tab(self, string):\n",
    "        return str(f'<tab>{string}</tab>')\n",
    "    def a(self, string):\n",
    "        return str(f'<a>{string}</a>')\n",
    "    def b(self, string):\n",
    "        return str(f'<b>{string}</b>')\n",
    "    def p (self, string):\n",
    "        return str(f'<p>{string}</p>')\n",
    "    def body (self, string):\n",
    "        return str(f'<body>{string}</body>')\n",
    "    def div (self, string):\n",
    "        return str(f'<div>{string}</div>')\n",
    "    def span (self, string):\n",
    "        return str(f'<span>{string}</span>')\n",
    "    def title (self, string):\n",
    "        return str(f'<title>{string}</title>')\n",
    "    def comment (self, string):\n",
    "        return str(f'<!--{string}-->')"
   ]
  },
  {
   "cell_type": "code",
   "execution_count": 90,
   "metadata": {},
   "outputs": [],
   "source": [
    "# solution 2\n",
    "class HTMLGen:\n",
    "    \"\"\"return string in html format\"\"\"\n",
    "    def __init__(self):\n",
    "        self.p = lambda t: self.wrapper('p', t)\n",
    "        self.a = lambda t: self.wrapper('a', t)\n",
    "        self.tab = lambda t: self.wrapper('tab', t)\n",
    "        self.body = lambda t: self.wrapper('body', t)\n",
    "        self.div = lambda t: self.wrapper('div', t)\n",
    "        self.comment = lambda t: self.commenting('<!--', '-->', t)\n",
    "        self.span = lambda t: self.wrapper('span', t)\n",
    "        self.title = lambda t: self.wrapper('title', t)\n",
    "        \n",
    "    def wrapper(self, method, string):\n",
    "        return str(f'<{method}>{string}</{method}>')\n",
    "    def commenting(self, left, right, string):\n",
    "        return str(f'{left}{string}{right}')"
   ]
  },
  {
   "cell_type": "code",
   "execution_count": null,
   "metadata": {},
   "outputs": [],
   "source": [
    "class HTMLGen(object):\n",
    "    def __getattr__(self, name):\n",
    "        def wrapper(text):\n",
    "            if name == \"comment\":\n",
    "                return \"<!--{0}-->\".format(text)\n",
    "            else:\n",
    "                return \"<{0}>{1}</{0}>\".format(name, text)\n",
    "        return wrapper"
   ]
  },
  {
   "cell_type": "code",
   "execution_count": 92,
   "metadata": {},
   "outputs": [],
   "source": [
    "g = HTMLGen()"
   ]
  },
  {
   "cell_type": "code",
   "execution_count": 93,
   "metadata": {},
   "outputs": [
    {
     "data": {
      "text/plain": [
       "'<!--dfd-->'"
      ]
     },
     "execution_count": 93,
     "metadata": {},
     "output_type": "execute_result"
    }
   ],
   "source": [
    "g.comment('dfd')"
   ]
  },
  {
   "cell_type": "code",
   "execution_count": null,
   "metadata": {},
   "outputs": [],
   "source": []
  }
 ],
 "metadata": {
  "kernelspec": {
   "display_name": "Python 3.8.0 64-bit",
   "language": "python",
   "name": "python38064bita3e2b9284fe241009277b40c2dcf841c"
  },
  "language_info": {
   "codemirror_mode": {
    "name": "ipython",
    "version": 3
   },
   "file_extension": ".py",
   "mimetype": "text/x-python",
   "name": "python",
   "nbconvert_exporter": "python",
   "pygments_lexer": "ipython3",
   "version": "3.8.0"
  }
 },
 "nbformat": 4,
 "nbformat_minor": 4
}
