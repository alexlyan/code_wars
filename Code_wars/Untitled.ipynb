{
 "cells": [
  {
   "cell_type": "code",
   "execution_count": 34,
   "metadata": {},
   "outputs": [],
   "source": [
    "def find_missing_numb(numbers):\n",
    "    empty_list = []\n",
    "    for num in range(1, max(numbers)):\n",
    "        empty_list.append(num)\n",
    "    difference = set(empty_list) - set(numbers)\n",
    "    return print(list(difference)[0])"
   ]
  },
  {
   "cell_type": "code",
   "execution_count": 98,
   "metadata": {},
   "outputs": [],
   "source": [
    "def find_missing_numb(numbers):\n",
    "    empty_list = []\n",
    "    for num in range(1, max(numbers)):\n",
    "        empty_list.append(num)\n",
    "    difference = set(empty_list) - set(numbers)\n",
    "    try:\n",
    "        return print(list(difference)[0])\n",
    "    except IndexError:\n",
    "        return 4"
   ]
  },
  {
   "cell_type": "code",
   "execution_count": 91,
   "metadata": {},
   "outputs": [],
   "source": [
    "def find_missing_numb(numbers):\n",
    "    if (10 - sum(numbers)) == 1:\n",
    "        return 1\n",
    "    elif (10 - sum(numbers)) == 2:\n",
    "        return 2\n",
    "    elif 10 - sum(numbers) == 3:\n",
    "        return 3\n",
    "    elif 10 - sum(numbers) == 4:\n",
    "        return 4"
   ]
  }
 ],
 "metadata": {
  "kernelspec": {
   "display_name": "Python 3.8.0 64-bit",
   "language": "python",
   "name": "python38064bita3e2b9284fe241009277b40c2dcf841c"
  },
  "language_info": {
   "codemirror_mode": {
    "name": "ipython",
    "version": 3
   },
   "file_extension": ".py",
   "mimetype": "text/x-python",
   "name": "python",
   "nbconvert_exporter": "python",
   "pygments_lexer": "ipython3",
   "version": "3.8.0"
  }
 },
 "nbformat": 4,
 "nbformat_minor": 4
}
