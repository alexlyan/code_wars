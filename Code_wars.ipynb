{
 "cells": [
  {
   "cell_type": "code",
   "execution_count": null,
   "metadata": {},
   "outputs": [],
   "source": []
  },
  {
   "cell_type": "code",
   "execution_count": 76,
   "metadata": {},
   "outputs": [
    {
     "ename": "SyntaxError",
     "evalue": "invalid syntax (<ipython-input-76-1c35d6a3be72>, line 3)",
     "output_type": "error",
     "traceback": [
      "\u001b[0;36m  File \u001b[0;32m\"<ipython-input-76-1c35d6a3be72>\"\u001b[0;36m, line \u001b[0;32m3\u001b[0m\n\u001b[0;31m    Implement the function unique_in_order which takes as argument a sequence and returns a list of items without any elements with the same value next to each other and preserving the original order of elements.\u001b[0m\n\u001b[0m              ^\u001b[0m\n\u001b[0;31mSyntaxError\u001b[0m\u001b[0;31m:\u001b[0m invalid syntax\n"
     ]
    }
   ],
   "source": [
    "### Problem 1\n",
    "\n",
    "Implement the function unique_in_order which takes as argument a sequence and returns a list of items without any elements with the same value next to each other and preserving the original order of elements.\n",
    "\n",
    "unique_in_order('AAAABBBCCDAABBB') == ['A', 'B', 'C', 'D', 'A', 'B']\n",
    "unique_in_order('ABBCcAD')         == ['A', 'B', 'C', 'c', 'A', 'D']\n",
    "unique_in_order([1,2,2,3,3])       == [1,2,3]"
   ]
  },
  {
   "cell_type": "code",
   "execution_count": null,
   "metadata": {},
   "outputs": [],
   "source": [
    "# Solution \n",
    "\n",
    "import itertools\n",
    "def unique_in_order(iterable=None):\n",
    "    \"\"\"removing repeating letters and numbers\"\"\"\n",
    "    unique_list = []\n",
    "    if iterable != None:\n",
    "        y = ''.join(x[0] for x in itertools.groupby(iterable))\n",
    "        x = [x for x in y]\n",
    "        print(x)\n",
    "    else:\n",
    "        pass\n",
    "    \n"
   ]
  },
  {
   "cell_type": "code",
   "execution_count": null,
   "metadata": {},
   "outputs": [],
   "source": [
    "# solution 2\n",
    "\n",
    "def unique_in_order(iterable):\n",
    "    c = \"\"\n",
    "    v = []\n",
    "    for i in iterable:\n",
    "        if i != c:\n",
    "            v.append(i)\n",
    "        c = i\n",
    "    return v"
   ]
  },
  {
   "cell_type": "code",
   "execution_count": null,
   "metadata": {},
   "outputs": [],
   "source": []
  },
  {
   "cell_type": "code",
   "execution_count": null,
   "metadata": {},
   "outputs": [],
   "source": [
    "def isValid(numbers):\n",
    "    \"\"\"validating materials\"\"\"\n",
    "\n",
    "    x = []\n",
    "    for x in numbers:\n",
    "        if 1<=x<9:\n",
    "            if 1 and 2 in numbers:\n",
    "                return False\n",
    "            elif 3 and 4 in numbers:\n",
    "                return False\n",
    "            elif ((5 in numbers and not 6 in numbers) or (6 in numbers and not 5 in numbers)):\n",
    "                return False\n",
    "            elif 7 or 8 in numbers:\n",
    "                return True\n",
    "        else:\n",
    "            return False"
   ]
  },
  {
   "cell_type": "code",
   "execution_count": null,
   "metadata": {},
   "outputs": [],
   "source": [
    "alphabet = 'abcdefghijklmnopqrstuvwxyz'\n",
    "\n",
    "def alphabet_position(text):\n",
    "    if type(text) == str:\n",
    "        text = text.lower()\n",
    "        result = ''\n",
    "        for letter in text:\n",
    "            if letter.isalpha() == True:\n",
    "                result = result + ' ' + str(alphabet.index(letter) + 1)\n",
    "        return result.lstrip(' ')\n",
    "alphabet_position('abcdefghijklmnopqrstuvwxyz')"
   ]
  },
  {
   "cell_type": "code",
   "execution_count": null,
   "metadata": {},
   "outputs": [],
   "source": [
    "# import needed modules\n",
    "import quandl\n",
    "import pandas as pd\n",
    "import numpy as np\n",
    "import matplotlib.pyplot as plt\n",
    "\n",
    "# get adjusted closing prices of 5 selected companies with Quandl\n",
    "quandl.ApiConfig.api_key = 'zcfJ6696mcZScjzsyeta'\n",
    "selected = ['CNP', 'F', 'WMT', 'GE', 'TSLA']\n",
    "data = quandl.get_table('WIKI/PRICES', ticker = selected,\n",
    "                        qopts = { 'columns': ['date', 'ticker', 'adj_close'] },\n",
    "                        date = { 'gte': '2014-1-1', 'lte': '2016-12-31' }, paginate=True)\n",
    "\n",
    "# reorganise data pulled by setting date as index with\n",
    "# columns of tickers and their corresponding adjusted prices\n",
    "clean = data.set_index('date')\n",
    "table = clean.pivot(columns='ticker')\n",
    "\n",
    "# calculate daily and annual returns of the stocks\n",
    "returns_daily = table.pct_change()\n",
    "returns_annual = returns_daily.mean() * 250\n",
    "\n",
    "# get daily and covariance of returns of the stock\n",
    "cov_daily = returns_daily.cov()\n",
    "cov_annual = cov_daily * 250\n",
    "\n",
    "# empty lists to store returns, volatility and weights of imiginary portfolios\n",
    "port_returns = []\n",
    "port_volatility = []\n",
    "stock_weights = []\n",
    "\n",
    "# set the number of combinations for imaginary portfolios\n",
    "num_assets = len(selected)\n",
    "num_portfolios = 50000\n",
    "\n",
    "# populate the empty lists with each portfolios returns,risk and weights\n",
    "for single_portfolio in range(num_portfolios):\n",
    "    weights = np.random.random(num_assets)\n",
    "    weights /= np.sum(weights)\n",
    "    returns = np.dot(weights, returns_annual)\n",
    "    volatility = np.sqrt(np.dot(weights.T, np.dot(cov_annual, weights)))\n",
    "    port_returns.append(returns)\n",
    "    port_volatility.append(volatility)\n",
    "    stock_weights.append(weights)\n",
    "\n",
    "# a dictionary for Returns and Risk values of each portfolio\n",
    "portfolio = {'Returns': port_returns,\n",
    "             'Volatility': port_volatility}\n",
    "\n",
    "# extend original dictionary to accomodate each ticker and weight in the portfolio\n",
    "for counter,symbol in enumerate(selected):\n",
    "    portfolio[symbol+' Weight'] = [Weight[counter] for Weight in stock_weights]\n",
    "\n",
    "# make a nice dataframe of the extended dictionary\n",
    "df = pd.DataFrame(portfolio)\n",
    "\n",
    "# get better labels for desired arrangement of columns\n",
    "column_order = ['Returns', 'Volatility'] + [stock+' Weight' for stock in selected]\n",
    "\n",
    "# reorder dataframe columns\n",
    "df = df[column_order]\n",
    "\n",
    "# plot the efficient frontier with a scatter plot\n",
    "plt.style.use('seaborn')\n",
    "df.plot.scatter(x='Volatility', y='Returns', figsize=(10, 8), grid=True)\n",
    "plt.xlabel('Volatility (Std. Deviation)')\n",
    "plt.ylabel('Expected Returns')\n",
    "plt.title('Efficient Frontier')\n",
    "plt.show()"
   ]
  },
  {
   "cell_type": "code",
   "execution_count": null,
   "metadata": {},
   "outputs": [],
   "source": [
    "import quandl\n",
    "import pandas as pd\n",
    "\n",
    "# add quandl API key for unrestricted\n",
    "quandl.ApiConfig.api_key = 'INSERT YOU API KEY HERE'\n",
    "\n",
    "# get the table for daily stock prices and,\n",
    "# filter the table for selected tickers, columns within a time range\n",
    "# set paginate to True because Quandl limits tables API to 10,000 rows per call\n",
    "data = quandl.get_table('WIKI/PRICES', ticker = ['AAPL', 'MSFT', 'WMT'], \n",
    "                        qopts = { 'columns': ['ticker', 'date', 'adj_close'] }, \n",
    "                        date = { 'gte': '2015-12-31', 'lte': '2016-12-31' }, \n",
    "                        paginate=True)\n",
    "\n",
    "# create a new dataframe with 'date' column as index\n",
    "new = data.set_index('date')\n",
    "\n",
    "# use pandas pivot function to sort adj_close by tickers\n",
    "clean_data = new.pivot(columns='ticker')"
   ]
  },
  {
   "cell_type": "code",
   "execution_count": null,
   "metadata": {},
   "outputs": [],
   "source": [
    "def tickets(people):\n",
    "  till = {100.0:0, 50.0:0, 25.0:0}\n",
    "\n",
    "  for paid in people:\n",
    "    till[paid] += 1\n",
    "    change = paid-25.0\n",
    "    \n",
    "    for bill in (50,25):\n",
    "      while (bill <= change and till[bill] > 0):\n",
    "        till[bill] -= 1\n",
    "        change -= bill\n",
    "\n",
    "    if change != 0:\n",
    "      return 'NO'\n",
    "        \n",
    "  return 'YES'"
   ]
  },
  {
   "cell_type": "code",
   "execution_count": null,
   "metadata": {},
   "outputs": [],
   "source": [
    "#Problem Vasya-change\n",
    "\n",
    "def tickets(people):\n",
    "  till = {100.0:0, 50.0:0, 25.0:0}\n",
    "\n",
    "  for paid in people:\n",
    "    till[paid] += 1\n",
    "    change = paid-25.0\n",
    "    \n",
    "    for bill in (50,25):\n",
    "      while (bill <= change and till[bill] > 0):\n",
    "        till[bill] -= 1\n",
    "        change -= bill\n",
    "\n",
    "    if change != 0:\n",
    "      return 'NO'\n",
    "        \n",
    "  return 'YES'"
   ]
  },
  {
   "cell_type": "code",
   "execution_count": null,
   "metadata": {},
   "outputs": [],
   "source": [
    "def tickets(people):\n",
    "    return \"NO\" if ((people.count(25)-people.count(50))+((people.count(50)-people.count(100))*2 if people.count(50)-people.count(100) < 0 else 0)-people.count(100)) < 0 else \"YES\""
   ]
  },
  {
   "cell_type": "code",
   "execution_count": null,
   "metadata": {},
   "outputs": [],
   "source": [
    "tickets([25,50,50])"
   ]
  },
  {
   "cell_type": "code",
   "execution_count": null,
   "metadata": {},
   "outputs": [],
   "source": [
    "# #It's too hot, and they can't even…\n",
    "# One hot summer day Pete and his friend Billy decided to buy watermelons. They chose the biggest crate. They rushed home, dying of thirst, and decided to divide their loot, however they faced a hard problem.\n",
    "\n",
    "# Pete and Billy are great fans of even numbers, that's why they want to divide the number of watermelons in such a way that each of the two parts consists of an even number of watermelons. However, it is not obligatory that the parts are equal.\n",
    "\n",
    "# Example: the boys can divide a stack of 8 watermelons into 2+6 melons, or 4+4 melons.\n",
    "\n",
    "# The boys are extremely tired and want to start their meal as soon as possible, that's why you should help them and find out, whether they can divide the fruits in the way they want. For sure, each of them should get a part of positive weight.\n",
    "\n",
    "# Task\n",
    "\n",
    "\n",
    "\n",
    "# Solution\n",
    "\n",
    "def divide(weight):\n",
    "    \"\"\"Given an integral number of watermelons w (1 ≤ w ≤ 100; 1 ≤ w in Haskell), check whether Pete and Billy can divide the melons so that each of them gets an even amount.\"\"\"\n",
    "\n",
    "    return 2<weight<=100 and weight%2 ==0"
   ]
  },
  {
   "cell_type": "code",
   "execution_count": null,
   "metadata": {},
   "outputs": [],
   "source": [
    "def to_jaden_case(string):\n",
    "    words = string.split(' ')\n",
    "    capitalized_words = []\n",
    "    for word in words:\n",
    "        title_case_word = word[0].upper() + word[1:]\n",
    "        capitalized_words.append(title_case_word)\n",
    "    output = ' '.join(capitalized_words)\n",
    "    print(output)\n",
    "to_jaden_case(\"How can mirrors be real if our eyes aren't real\")"
   ]
  },
  {
   "cell_type": "code",
   "execution_count": null,
   "metadata": {},
   "outputs": [],
   "source": [
    "input = \"they're bill's friends from the UK\"\n",
    "words = input.split(' ')\n",
    "capitalized_words = []\n",
    "for word in words:\n",
    "    title_case_word = word[0].upper() + word[1:]\n",
    "    capitalized_words.append(title_case_word)\n",
    "output = ' '.join(capitalized_words)\n",
    "print(output)"
   ]
  },
  {
   "cell_type": "code",
   "execution_count": null,
   "metadata": {},
   "outputs": [],
   "source": [
    "D = [1,2,3,\"f\",\"e\",3,5]\n",
    "D.isdigit()\n"
   ]
  },
  {
   "cell_type": "code",
   "execution_count": null,
   "metadata": {},
   "outputs": [],
   "source": [
    "x = [0] \n",
    "y = [1]\n",
    "\n",
    "while y < 700:\n",
    "    x, y = b, x+y\n",
    "    print(y)"
   ]
  },
  {
   "cell_type": "code",
   "execution_count": null,
   "metadata": {},
   "outputs": [],
   "source": [
    "myArray1 = [0] \n",
    "myArray2 = [1]\n",
    "\n",
    "while myArray2 < 700:\n",
    "    myArray1, myArray2 = myArray2, myArray1+myArray2\n",
    "    print(myArray2)"
   ]
  },
  {
   "cell_type": "code",
   "execution_count": null,
   "metadata": {},
   "outputs": [],
   "source": [
    "x = [0,1]\n",
    "x = x + [x.append(x[i]+x[i-1]+x[i-2]) for i in range(10)]*0\n",
    "print(x)"
   ]
  },
  {
   "cell_type": "code",
   "execution_count": null,
   "metadata": {},
   "outputs": [],
   "source": [
    "def tribonacci(signature,n):\n",
    "    for _ in range(3,n):\n",
    "        signature += [sum(signature[-3:])]\n",
    "    return signature[0:n]"
   ]
  },
  {
   "cell_type": "code",
   "execution_count": null,
   "metadata": {},
   "outputs": [],
   "source": [
    "bus_stops = [[10,0],[3,5],[5,8]]\n",
    "len(bus_stops)"
   ]
  },
  {
   "cell_type": "code",
   "execution_count": null,
   "metadata": {},
   "outputs": [],
   "source": [
    "myList = [[1,2,3],[4,5,6],[7,8,9],[10,11,12]]\n",
    "sum(myList[x][-1] for x in range(len(myList)))"
   ]
  },
  {
   "cell_type": "code",
   "execution_count": null,
   "metadata": {},
   "outputs": [],
   "source": [
    "bus_stops = [[10,0],[3,5],[5,8]]\n",
    "def number(bus_stops):\n",
    "    y = sum(bus_stops[x][1] for x in range(len(bus_stops)))\n",
    "    x = sum(bus_stops[x][0] for x in range(len(bus_stops)))\n",
    "    return x-y"
   ]
  },
  {
   "cell_type": "code",
   "execution_count": null,
   "metadata": {},
   "outputs": [],
   "source": [
    "x = [1,1,2,3]\n",
    "\n",
    "y = len(x[1:3])\n",
    "print(y)"
   ]
  },
  {
   "cell_type": "code",
   "execution_count": null,
   "metadata": {},
   "outputs": [],
   "source": [
    "def likes(names):\n",
    "    list = []\n",
    "    if len(names) == 0:\n",
    "        return \"no one likes this\"\n",
    "    elif len(names) == 1:\n",
    "        return f\"{names[0]} likes this\"\n",
    "    elif len(names) == 2:\n",
    "        return f\"{names[0]} and {names[1]} like this\"\n",
    "    elif len(names) == 3:\n",
    "        return f\"{names[0]}, {names[1]} and {names[2]} like this\"\n",
    "    elif len(names) > 3:\n",
    "        return f\"{names[0]}, {names[1]} and {len(names[2:])} others like this\"\n",
    "likes(['Alex', 'Jacob', 'Mark', 'Max'])"
   ]
  },
  {
   "cell_type": "code",
   "execution_count": 115,
   "metadata": {},
   "outputs": [],
   "source": [
    "def duplicate_encode(word):\n",
    "    string = []\n",
    "    [string.append(i) for i in word if i.isalpha()]\n",
    "    return ''.join(string)"
   ]
  },
  {
   "cell_type": "code",
   "execution_count": 118,
   "metadata": {},
   "outputs": [
    {
     "data": {
      "text/plain": "'dfdfaf'"
     },
     "execution_count": 118,
     "metadata": {},
     "output_type": "execute_result"
    }
   ],
   "source": [
    "duplicate_encode(\"dfdfa4524f\")"
   ]
  },
  {
   "cell_type": "code",
   "execution_count": 124,
   "metadata": {},
   "outputs": [
    {
     "data": {
      "text/plain": "'ee'"
     },
     "execution_count": 124,
     "metadata": {},
     "output_type": "execute_result"
    }
   ],
   "source": [
    "\n",
    "def duplicate_encode(word):\n",
    "    string = []\n",
    "    [string.append(i) for i in word if i.isalpha()]\n",
    "    for x in string:\n",
    "        if string.count(x) == 1:\n",
    "            'eeee'\n",
    "    return ''.join(string)\n",
    "duplicate_encode(\"ee\")"
   ]
  },
  {
   "cell_type": "code",
   "execution_count": 125,
   "metadata": {},
   "outputs": [
    {
     "data": {
      "text/plain": "'))'"
     },
     "execution_count": 125,
     "metadata": {},
     "output_type": "execute_result"
    }
   ],
   "source": [
    "def duplicate_encode(word):\n",
    "    return \"\".join([\"(\" if word.lower().count(c) == 1 else \")\" for c in word.lower()])\n",
    "duplicate_encode(\"ee\")"
   ]
  },
  {
   "cell_type": "code",
   "execution_count": 149,
   "metadata": {},
   "outputs": [
    {
     "data": {
      "text/plain": "'((((()'"
     },
     "execution_count": 149,
     "metadata": {},
     "output_type": "execute_result"
    }
   ],
   "source": [
    "def duplicate_encode(word):\n",
    "    word = word.lower()\n",
    "    result = ''\n",
    "    for x in word:\n",
    "        if word.count(x) > 1:\n",
    "            result += '('\n",
    "        else:\n",
    "            result += \")\"\n",
    "    return result\n",
    "duplicate_encode(\"ee33er\")\n"
   ]
  },
  {
   "cell_type": "code",
   "execution_count": 167,
   "metadata": {},
   "outputs": [
    {
     "name": "stdout",
     "output_type": "stream",
     "text": "30\n"
    }
   ],
   "source": [
    "z = 1\n",
    "ls = [1,5,6]\n",
    "\n",
    "for i in ls:\n",
    "    z *= i\n",
    "print(z)"
   ]
  },
  {
   "cell_type": "code",
   "execution_count": 55,
   "metadata": {},
   "outputs": [],
   "source": [
    "def persistance(x):\n",
    "    per_count = 0\n",
    "    x = str(x)\n",
    "\n",
    "    while len(x) != 1:\n",
    "        z = 1   \n",
    "        for y in x:\n",
    "            z *= int(y)\n",
    "        x = str(z)\n",
    "        per_count += 1\n",
    "    return per_count"
   ]
  },
  {
   "cell_type": "code",
   "execution_count": 65,
   "metadata": {},
   "outputs": [],
   "source": [
    "def backwards_prime(start, stop):\n",
    "    lst = [] \n",
    "    return [lst.append(x) if x % x == 0 or x % 1 == 0 else None for x in range(start, stop) ]"
   ]
  },
  {
   "cell_type": "code",
   "execution_count": 87,
   "metadata": {},
   "outputs": [
    {
     "data": {
      "text/plain": "[12]"
     },
     "execution_count": 87,
     "metadata": {},
     "output_type": "execute_result"
    }
   ],
   "source": [
    "# backwardsPrime is renamed backwards_prime\n",
    "def backwards_prime(start, stop):\n",
    "    lst = []\n",
    "    for x in range(start, stop):\n",
    "        if x > 1:\n",
    "            for i in range(2, x):\n",
    "               if (x % i) == 0:\n",
    "                   break\n",
    "            else:\n",
    "                lst.append(i)\n",
    "    return lst\n",
    "backwards_prime(13, 17)"
   ]
  },
  {
   "cell_type": "code",
   "execution_count": null,
   "metadata": {},
   "outputs": [],
   "source": []
  }
 ],
 "metadata": {
  "kernelspec": {
   "display_name": "Python 3.8.0 64-bit",
   "language": "python",
   "name": "python38064bita3e2b9284fe241009277b40c2dcf841c"
  },
  "language_info": {
   "codemirror_mode": {
    "name": "ipython",
    "version": 3
   },
   "file_extension": ".py",
   "mimetype": "text/x-python",
   "name": "python",
   "nbconvert_exporter": "python",
   "pygments_lexer": "ipython3",
   "version": "3.8.0-final"
  }
 },
 "nbformat": 4,
 "nbformat_minor": 2
}