{
 "cells": [
  {
   "cell_type": "code",
   "execution_count": 7,
   "metadata": {},
   "outputs": [],
   "source": [
    "import numpy as np\n",
    "from collections import Counter"
   ]
  },
  {
   "cell_type": "code",
   "execution_count": 2,
   "metadata": {},
   "outputs": [],
   "source": [
    "lst_1 = ['377', '783', '883', '887', '338', '337', '888', '333', '833', '837', '878', '877', '838', '873', '733', '737', '738', '777', '773', '778', '383', '387', '388', '787', '788', '378', '373']"
   ]
  },
  {
   "cell_type": "code",
   "execution_count": 27,
   "metadata": {},
   "outputs": [],
   "source": [
    "nums = [\"3\", \"7\", \"7\", \"7\", \"3\", \"3\", \"3\", \"7\", \"8\", \"8\", \"8\"]"
   ]
  },
  {
   "cell_type": "code",
   "execution_count": 37,
   "metadata": {},
   "outputs": [],
   "source": [
    "nums_unique = Counter(nums)"
   ]
  },
  {
   "cell_type": "code",
   "execution_count": 44,
   "metadata": {},
   "outputs": [],
   "source": [
    "ttt = dict(zip(nums_unique.keys(), nums_unique.values()))"
   ]
  },
  {
   "cell_type": "code",
   "execution_count": 52,
   "metadata": {},
   "outputs": [
    {
     "data": {
      "text/plain": [
       "3"
      ]
     },
     "execution_count": 52,
     "metadata": {},
     "output_type": "execute_result"
    }
   ],
   "source": [
    "ttt[min(ttt, key=ttt.get)]"
   ]
  },
  {
   "cell_type": "code",
   "execution_count": 53,
   "metadata": {},
   "outputs": [],
   "source": [
    "# Step 1. getting value with minimum frequency key\n",
    "# Step 2. get number after repeating pop removal number of key times\n",
    "# Step 3. permutation number with repeatition\n",
    "# Step 4. Permuation number with at least one number\n",
    "# Step 5. Minimum number in list (step. 4)"
   ]
  },
  {
   "cell_type": "code",
   "execution_count": 139,
   "metadata": {},
   "outputs": [],
   "source": [
    "# Step 1. \n",
    "nums = [\"3\",\"3\",\"7\", \"7\", \"7\", \"7\", \"3\", \"3\", \"3\", \\\n",
    "\"7\",\"8\", \"8\", \"8\", \"8\", \"8\",\"1\", \"1\", \"1\", \"1\", \"1\", \\\n",
    "\"5\", \"5\", \"5\", \"5\", \"5\"]\n",
    "nums_unique = Counter(nums)\n",
    "\n",
    "# Step 2. get number after repeating pop removal number of key times\n",
    "nums_dict = dict(zip(nums_unique.keys(), nums_unique.values()))\n",
    "number_of_min_freq = nums_dict[min(nums_dict, key=nums_dict.get)]\n",
    "\n",
    "# Step 4. permutation number with repeatition\n",
    "perm_rep_length = len(nums_unique.keys())**number_of_min_freq\n",
    "\n",
    "# Step 4. Permuation number with at least one number\n",
    "perm_1_rep_length = perm_rep_length - number_of_min_freq * factorial(number_of_min_freq-1)\n",
    "\n",
    "# Step 5. Highest values in list\n",
    "\n",
    "\n",
    "nums = [int(x) for x in nums_unique.keys()]\n",
    "des_num = []\n",
    "for _ in range(len(nums)):\n",
    "    des_num.append(nums.pop(nums.index(max(nums))))\n",
    "highest_value = int(''.join([str(x) for x in des_num]))"
   ]
  },
  {
   "cell_type": "code",
   "execution_count": 140,
   "metadata": {},
   "outputs": [
    {
     "data": {
      "text/plain": [
       "87531"
      ]
     },
     "execution_count": 140,
     "metadata": {},
     "output_type": "execute_result"
    }
   ],
   "source": [
    "highest_value"
   ]
  },
  {
   "cell_type": "code",
   "execution_count": 133,
   "metadata": {},
   "outputs": [],
   "source": [
    "lst\n"
   ]
  },
  {
   "cell_type": "code",
   "execution_count": 164,
   "metadata": {},
   "outputs": [],
   "source": [
    "def proc_arrII(arr):\n",
    "    nums_unique = Counter(arr)\n",
    "    \n",
    "    # Step 2. get number after repeating pop removal number of key times\n",
    "    nums_dict = dict(zip(nums_unique.keys(), nums_unique.values()))\n",
    "    number_of_min_freq = nums_dict[min(nums_dict, key=nums_dict.get)]\n",
    "    \n",
    "    length_num_list = len(nums_unique.keys())\n",
    "    # Step 4. permutation number with repeatition\n",
    "    perm_rep_length = len(nums_unique.keys())**number_of_min_freq\n",
    "    \n",
    "    # Step 4. Permuation number with at least one number\n",
    "    perm_1_rep_length = perm_rep_length - length_num_list * factorial(length_num_list-1)\n",
    "    \n",
    "    # Step 5. Highest values in list  \n",
    "    nums = [int(x) for x in nums_unique.keys()]\n",
    "    des_num = []\n",
    "    \n",
    "    try:\n",
    "        for _ in range(number_of_min_freq):\n",
    "            des_num.append(nums.pop(nums.index(max(nums))))\n",
    "\n",
    "        highest_value = int(''.join([str(x) for x in des_num]))\n",
    "    \n",
    "    except ValueError:\n",
    "        return [perm_rep_length]\n",
    "    \n",
    "    return [perm_rep_length, perm_1_rep_length, highest_value]\n",
    "    \n",
    "    "
   ]
  },
  {
   "cell_type": "code",
   "execution_count": 163,
   "metadata": {},
   "outputs": [
    {
     "data": {
      "text/plain": [
       "[16, -8, 87]"
      ]
     },
     "execution_count": 163,
     "metadata": {},
     "output_type": "execute_result"
    }
   ],
   "source": [
    "proc_arrII( ['7', '7', '7', '7', '1', '7', '7', '7', '7', '7', '7', '1', '7', '7', '7', '8', '7', '7', '7', '7', '7', '7', '7', '1', '7', '7', '8', '7', '8', '8', '7', '7', '7', '7', '7', '7', '7', '7', '7', '7', '7', '4', '7', '4'])"
   ]
  },
  {
   "cell_type": "code",
   "execution_count": 177,
   "metadata": {},
   "outputs": [
    {
     "name": "stdout",
     "output_type": "stream",
     "text": [
      "[32768, 26048, 87643]\n"
     ]
    }
   ],
   "source": [
    "arr = ['1', '2', '2', '6', '7', '3', '0', '8', '2', '6', '6', '8', '6', '1', '6', '2', '2', '8', '7', '7', '8', '7', '6', '2', '6', '3', '6', '8', '2', '4', '3', '2', '1', '0', '6', '3', '2', '6', '2', '8', '6', '8', '7', '8', '2', '8', '3', '3', '6', '3', '3', '4', '1', '1', '6', '1', '1', '6', '4', '6', '8', '1', '6', '1', '3', '1', '2', '6', '2', '3', '4', '3', '3', '6', '2', '0', '2', '1', '7', '6', '2', '3', '3', '1', '6', '3', '8', '6', '3', '3', '2', '6', '7', '0', '0', '8', '4', '6', '2', '2', '6', '4', '2', '6', '7', '2', '3']\n",
    "nums_unique = Counter(arr)\n",
    "    \n",
    "# Step 2. get number after repeating pop removal number of key times\n",
    "nums_dict = dict(zip(nums_unique.keys(), nums_unique.values()))\n",
    "number_of_min_freq = nums_dict[min(nums_dict, key=nums_dict.get)]\n",
    "\n",
    "length_num_list = len(nums_unique.keys())\n",
    "# Step 4. permutation number with repeatition\n",
    "perm_rep_length = len(nums_unique.keys())**number_of_min_freq\n",
    "\n",
    "# Step 4. Permuation number with at least one number\n",
    "perm_1_rep_length = int(perm_rep_length - factorial(length_num_list)/factorial(length_num_list-number_of_min_freq))\n",
    "\n",
    "# Step 5. Highest values in list  \n",
    "nums = [int(x) for x in nums_unique.keys()]\n",
    "des_num = []\n",
    "\n",
    "try:\n",
    "    for _ in range(number_of_min_freq):\n",
    "        des_num.append(nums.pop(nums.index(max(nums))))\n",
    "\n",
    "    highest_value = int(''.join([str(x) for x in des_num]))\n",
    "\n",
    "except ValueError:\n",
    "    [perm_rep_length]\n",
    "\n",
    "print([perm_rep_length, perm_1_rep_length, highest_value])"
   ]
  },
  {
   "cell_type": "code",
   "execution_count": 175,
   "metadata": {},
   "outputs": [
    {
     "data": {
      "text/plain": [
       "5"
      ]
     },
     "execution_count": 175,
     "metadata": {},
     "output_type": "execute_result"
    }
   ],
   "source": [
    "number_of_min_freq"
   ]
  },
  {
   "cell_type": "code",
   "execution_count": 171,
   "metadata": {},
   "outputs": [
    {
     "data": {
      "text/plain": [
       "32768"
      ]
     },
     "execution_count": 171,
     "metadata": {},
     "output_type": "execute_result"
    }
   ],
   "source": [
    "perm_rep_length"
   ]
  },
  {
   "cell_type": "code",
   "execution_count": 172,
   "metadata": {},
   "outputs": [
    {
     "data": {
      "text/plain": [
       "Counter({'1': 12, '2': 21, '6': 25, '7': 8, '3': 18, '0': 5, '8': 12, '4': 6})"
      ]
     },
     "execution_count": 172,
     "metadata": {},
     "output_type": "execute_result"
    }
   ],
   "source": [
    "nums_unique"
   ]
  },
  {
   "cell_type": "code",
   "execution_count": null,
   "metadata": {},
   "outputs": [],
   "source": []
  }
 ],
 "metadata": {
  "kernelspec": {
   "display_name": "Python 3.8.0 64-bit",
   "language": "python",
   "name": "python38064bita3e2b9284fe241009277b40c2dcf841c"
  },
  "language_info": {
   "codemirror_mode": {
    "name": "ipython",
    "version": 3
   },
   "file_extension": ".py",
   "mimetype": "text/x-python",
   "name": "python",
   "nbconvert_exporter": "python",
   "pygments_lexer": "ipython3",
   "version": "3.8.0"
  }
 },
 "nbformat": 4,
 "nbformat_minor": 4
}
