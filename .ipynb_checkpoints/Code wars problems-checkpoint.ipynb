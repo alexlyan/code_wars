{
 "cells": [
  {
   "cell_type": "markdown",
   "metadata": {},
   "source": [
    "The museum of incredible dull things\n",
    "\\\n",
    "The museum of incredible dull things wants to get rid of some exhibitions. Miriam, the interior architect, comes up with a plan to remove the most boring exhibitions. She gives them a rating, and then removes the one with the lowest rating.\n",
    "\n",
    "However, just as she finished rating all exhibitions, she's off to an important fair, so she asks you to write a program that tells her the ratings of the items after one removed the lowest one. Fair enough.\n",
    "\n",
    "Task\n",
    "Given an array of integers, remove the smallest value. Do not mutate the original array/list. If there are multiple elements with the same value, remove the one with a lower index. If you get an empty array/list, return an empty array/list.\n",
    "\n",
    "Don't change the order of the elements that are left.\n",
    "\n",
    "Examples\n",
    "remove_smallest([1,2,3,4,5]) = [2,3,4,5]\n",
    "remove_smallest([5,3,2,1,4]) = [5,3,2,4]\n",
    "remove_smallest([2,2,1,2,1]) = [2,2,2,1]"
   ]
  },
  {
   "cell_type": "code",
   "execution_count": 28,
   "metadata": {},
   "outputs": [],
   "source": [
    "def remove_smallest(numbers):\n",
    "    \"\"\"remove smallest element in array, if array has less, than one value return empty list\"\"\"\n",
    "    \n",
    "    if len(numbers) <= 1:\n",
    "        return []\n",
    "    else:\n",
    "        copy = numbers[:]\n",
    "        copy.remove(min(copy))\n",
    "    return copy\n",
    "    raise NotImplementedError(\"TODO: remove_smallest\")"
   ]
  },
  {
   "cell_type": "code",
   "execution_count": 27,
   "metadata": {},
   "outputs": [
    {
     "data": {
      "text/plain": [
       "[]"
      ]
     },
     "execution_count": 27,
     "metadata": {},
     "output_type": "execute_result"
    }
   ],
   "source": [
    "remove_smallest([91] )"
   ]
  },
  {
   "cell_type": "code",
   "execution_count": null,
   "metadata": {},
   "outputs": [],
   "source": []
  },
  {
   "cell_type": "code",
   "execution_count": 35,
   "metadata": {},
   "outputs": [],
   "source": [
    "from math import factorial as f\n",
    "def choose(m, x):\n",
    "    return f(m)//(f(x)*f(m-x)) if x else 1\n",
    "                      \n",
    "def checkchoose(m, n):\n",
    "    for x in range(0, n+1):\n",
    "        if choose(n, x) == m:\n",
    "            return x\n",
    "    return -1"
   ]
  },
  {
   "cell_type": "code",
   "execution_count": 38,
   "metadata": {},
   "outputs": [
    {
     "data": {
      "text/plain": [
       "1"
      ]
     },
     "execution_count": 38,
     "metadata": {},
     "output_type": "execute_result"
    }
   ],
   "source": [
    "choose(7, 0)"
   ]
  },
  {
   "cell_type": "code",
   "execution_count": 26,
   "metadata": {},
   "outputs": [],
   "source": [
    "from math import factorial\n",
    "\n",
    "def choose(n, x):\n",
    "    return factorial(n) // (factorial(x) * factorial(n-x)) if x else 1\n",
    "\n",
    "def checkchoose(m, n):\n",
    "    for x in range(n+1):\n",
    "        if choose(n, x) == m:\n",
    "            return x\n",
    "    return -1"
   ]
  },
  {
   "cell_type": "code",
   "execution_count": 188,
   "metadata": {},
   "outputs": [],
   "source": [
    "def capitalize(s):\n",
    "    '''capitalizing every first letter for position one in list list and capitalizing every second letter for second position in list'''\n",
    "    lst = [\"\" , \"\"]\n",
    "    for c, k in enumerate(s): \n",
    "        lst[0] += k.upper() if c%2 else k.lower()\n",
    "        lst[1] += k.lower() if c%2 else k.upper()\n",
    "    return lst"
   ]
  },
  {
   "cell_type": "code",
   "execution_count": null,
   "metadata": {},
   "outputs": [],
   "source": []
  },
  {
   "cell_type": "code",
   "execution_count": null,
   "metadata": {},
   "outputs": [],
   "source": [
    "# solution one\n",
    "import re\n",
    "def domain_name(url):\n",
    "    '''parsing domain name'''\n",
    "    pattern = re.compile('(?:[a-z0-9](?:[a-z0-9-]{0,61}[a-z0-9])?)(?=\\.)')\n",
    "    ans = re.findall(pattern, url)\n",
    "    if ans[0] == 'www':\n",
    "        return ans[1]\n",
    "    else:\n",
    "        return ans[0]"
   ]
  },
  {
   "cell_type": "code",
   "execution_count": null,
   "metadata": {},
   "outputs": [],
   "source": [
    "# solution two\n",
    "import re\n",
    "def domain_name(url):\n",
    "    return re.search('(https?://)?(www\\d?\\.)?(?P<name>[\\w-]+)', url).group('name')"
   ]
  },
  {
   "cell_type": "markdown",
   "metadata": {},
   "source": [
    "Example laps\n",
    "Task\n",
    "Your job is to complete the function nbrOfLaps(x, y) that, given the length of the laps for Bob and Charles, finds the number of laps that each jogger has to complete before they meet each other again, at the same time, at the start.\n",
    "\n",
    "The function takes two arguments:\n",
    "\n",
    "The length of Bob's lap (larger than 0)\n",
    "The length of Charles' lap (larger than 0)\n",
    "\n",
    "The function should return an array (Tuple<int, int> in C#) containing exactly two numbers:\n",
    "\n",
    "The first number is the number of laps that Bob has to run\n",
    "The second number is the number of laps that Charles has to run\n",
    "\n",
    "Examples:\n",
    "\n",
    "nbr_of_laps(5, 3) # returns (3, 5)\n",
    "nbr_of_laps(4, 6) # returns (3, 2)"
   ]
  },
  {
   "cell_type": "code",
   "execution_count": 223,
   "metadata": {},
   "outputs": [],
   "source": [
    "# solution 1\n",
    "def nbr_of_laps(a, b):\n",
    "    cm = abs(a*b) // math.gcd(a, b)\n",
    "    return(cm//a, cm//b)"
   ]
  },
  {
   "cell_type": "code",
   "execution_count": 232,
   "metadata": {},
   "outputs": [],
   "source": [
    "#solution 2\n",
    "def nbr_of_laps(a, b):\n",
    "    i=1\n",
    "    while True:\n",
    "        if i%a == 0 and i%b == 0:\n",
    "            break\n",
    "        i += 1\n",
    "    return (i//a, i//b)"
   ]
  },
  {
   "cell_type": "code",
   "execution_count": null,
   "metadata": {},
   "outputs": [],
   "source": []
  }
 ],
 "metadata": {
  "kernelspec": {
   "display_name": "Python 3.8.0 64-bit",
   "language": "python",
   "name": "python38064bita3e2b9284fe241009277b40c2dcf841c"
  },
  "language_info": {
   "codemirror_mode": {
    "name": "ipython",
    "version": 3
   },
   "file_extension": ".py",
   "mimetype": "text/x-python",
   "name": "python",
   "nbconvert_exporter": "python",
   "pygments_lexer": "ipython3",
   "version": "3.8.0"
  }
 },
 "nbformat": 4,
 "nbformat_minor": 4
}
